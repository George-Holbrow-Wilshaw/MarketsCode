{
 "cells": [
  {
   "cell_type": "code",
   "execution_count": 198,
   "metadata": {},
   "outputs": [],
   "source": [
    "import numpy as np\n",
    "import pandas as pd\n",
    "import datetime as dt\n",
    "from scipy.optimize import minimize\n"
   ]
  },
  {
   "cell_type": "code",
   "execution_count": 553,
   "metadata": {},
   "outputs": [],
   "source": [
    "CURR_SOFR_FIX = 0.0455\n",
    "FIX_DATE = dt.date(2023, 3, 2)\n",
    "\n",
    "\n",
    "# Added additional jump date in october in addition to FOMC dates\n",
    "fomc_dates = [\n",
    "    dt.date(2023, 3, 23),\n",
    "    dt.date(2023, 5, 4),\n",
    "    dt.date(2023, 6, 15),\n",
    "    dt.date(2023, 7, 27),\n",
    "    dt.date(2023, 9, 21),\n",
    "    dt.date(2023, 10, 1),\n",
    "    dt.date(2023, 11, 2),\n",
    "    dt.date(2023, 12, 14),\n",
    "    dt.date(2023, 12, 31),\n",
    "    dt.date(2024, 1, 26),\n",
    "    dt.date(2024, 3, 23)\n",
    "    ]\n",
    "\n",
    "fomc_dates = [pd.to_datetime(x) for x in fomc_dates]\n",
    "\n",
    "start_steps = [25] * len(fomc_dates)\n",
    "\n",
    "class SOFR1:\n",
    "    pass\n"
   ]
  },
  {
   "cell_type": "code",
   "execution_count": 554,
   "metadata": {},
   "outputs": [],
   "source": [
    "class CurveSOFR:\n",
    "\n",
    "    def __init__(self, sofr_fixings: pd.DataFrame):\n",
    "        \n",
    "        self.fixings = sofr_fixings.copy()\n",
    "        self.current_date = self.fixings.index[-1]\n",
    "        self.current_fix = self.fixings.iloc[-1,0]\n",
    "\n",
    "    def bootstrap_from_futures(self, fomc_dates: list, future_obj_list: list):\n",
    "        \n",
    "        # Not implemented for SOFR3 futures yets\n",
    "        for future in future_obj_list:\n",
    "            print(f'Bootstrapping rates for SOFR 1M future ending on {future.contract_end}')\n",
    "            self.bootstrap_single_rate(fomc_dates, future)\n",
    "\n",
    "\n",
    "    def bootstrap_single_rate(self, fomc_dates: list, future_obj: SOFR1):\n",
    "        \n",
    "        start_date = future_obj.contract_start\n",
    "        end_date = future_obj.contract_end\n",
    "        next_fomc = min(fomc_dates, key=lambda sub: (sub - start_date) < dt.timedelta(0))\n",
    "        \n",
    "        # Check whether next FOMC meeting falls within contract month, if not, skip\n",
    "        if next_fomc > end_date:\n",
    "            return None\n",
    "\n",
    "        days_to_fomc = (next_fomc - start_date).days\n",
    "        days_from_fomc = (end_date - next_fomc).days + 1\n",
    "        days_in_contract = (end_date - start_date).days + 1\n",
    "\n",
    "        if start_date in self.fixings.index:\n",
    "            fix_idx = start_date\n",
    "        else:\n",
    "            fix_idx = self.fixings.index[-1]\n",
    "\n",
    "        observed = self.fixings[fix_idx:]\n",
    "\n",
    "        r_boot = future_obj.bootstrap_rate_from_px(observed, days_in_contract, days_to_fomc, days_from_fomc)\n",
    "\n",
    "        self.fixings.loc[next_fomc, 'rate'] = r_boot\n",
    "\n",
    "        return r_boot\n",
    "\n",
    "    def fill_curve_gaps(self):\n",
    "\n",
    "         self.fixings = self.fixings.resample('D').mean().ffill()\n",
    "\n",
    "    def fit_curve_to_instruments(self, futures: list, fomc_dates: list):\n",
    "        \n",
    "        prices = np.array([f.price for f in futures])\n",
    "        steps = np.array([25] * len(fomc_dates))\n",
    "\n",
    "        def target(steps, current_fix, fomc_dates, instruments):\n",
    "            \n",
    "            instrument_dates = [i.contract_end for i in instruments]\n",
    "            date_range = pd.date_range(instrument_dates[0], instrument_dates[-1])\n",
    "            constructed_curve = pd.DataFrame(index = pd.DatetimeIndex(fomc_dates), data = {'rate': current_fix, 'steps': steps})\n",
    "            constructed_curve['cumu_steps'] = constructed_curve['steps'].cumsum() / 10000\n",
    "            constructed_curve['rate'] = constructed_curve['rate'] + constructed_curve['cumu_steps']\n",
    "            constructed_curve.loc[self.current_date, 'rate'] = current_fix\n",
    "            constructed_curve = constructed_curve.resample('D').mean()\n",
    "            constructed_curve = constructed_curve.ffill()\n",
    "\n",
    "            market_prices = np.array([i.price for i in futures])\n",
    "            implied_prices = np.array([i.price_from_curve(constructed_curve[['rate']]) for i in futures])\n",
    "\n",
    "            e = sum((market_prices - implied_prices)**2)\n",
    "\n",
    "            print(market_prices, implied_prices)\n",
    "\n",
    "            return e\n",
    "\n",
    "        results = minimize(target, steps, args=(self.current_fix, fomc_dates, futures), method = 'SLSQP')\n",
    "\n",
    "        print(results)\n",
    "\n",
    "class Futures:\n",
    "\n",
    "    def __init__(self, contract_start: dt.date, price: float = None):\n",
    "\n",
    "        self.contract_start = contract_start\n",
    "        self.eval_date = None\n",
    "        self.price = price\n",
    "\n",
    "    @property\n",
    "    def implied_rate(self):\n",
    "\n",
    "        if self.price is None:\n",
    "            print(f'Warning: price needed to calculate implied rate')\n",
    "        else:\n",
    "            return (100 - self.price) / 100\n",
    "\n",
    "class FuturesSOFR1M(Futures):\n",
    "\n",
    "    @property\n",
    "    def contract_end(self):\n",
    "        \n",
    "        contract_end = pd.to_datetime(dt.date(\n",
    "        self.contract_start.year + self.contract_start.month // 12, \n",
    "        self.contract_start.month % 12 + 1, 1\n",
    "        ) - dt.timedelta(1))\n",
    "\n",
    "        return contract_end\n",
    "\n",
    "    def price_from_curve(self, curve_fixings: pd.DataFrame):\n",
    "        \n",
    "        days_in_contract = (self.contract_end - self.contract_start).days + 1\n",
    "        r = np.sum(curve_fixings.loc[self.contract_start:self.contract_end,'rate']) / days_in_contract\n",
    "\n",
    "        px = 100 - r * 100\n",
    "\n",
    "        self.price = px\n",
    "        \n",
    "        return px\n",
    "\n",
    "    def bootstrap_rate_from_px(self, observed: pd.DataFrame, days_in_contract: int, days_to_fomc: int, days_from_fomc: int):\n",
    "\n",
    "        r_obs = np.sum(observed.rate) / len(observed)\n",
    "\n",
    "        r_boot = (self.implied_rate * days_in_contract - r_obs * days_to_fomc) / days_from_fomc\n",
    "\n",
    "        return r_boot\n",
    "\n",
    "\n",
    "class FuturesSOFR3M(Futures):\n",
    "\n",
    "    @property\n",
    "    def contract_end(self):\n",
    "        # End 1 day before third wednesday of third month\n",
    "        contract_end = pd.date_range(\n",
    "            self.contract_start, self.contract_start + \n",
    "            pd.DateOffset(months = 3) + \n",
    "            pd.offsets.MonthEnd(1), \n",
    "            freq='WOM-3WED')[-1] + pd.DateOffset(days = -1)\n",
    "\n",
    "        return contract_end\n",
    "\n",
    "    def bootstrap_rate_from_px(self, observed: pd.DataFrame, days_in_contract: int, days_to_fomc: int, days_from_fomc: int):\n",
    "\n",
    "        days_from_start = days_in_contract - days_from_fomc - days_to_fomc\n",
    "\n",
    "        r_obs = np.prod(1 + observed.rate / 360) \n",
    "\n",
    "        r_numerator = (1 + self.implied_rate * days_in_contract / 360)\n",
    "        r_average_obs = (np.prod(1 + observed.rate / 360) - 1) * 360 / len(observed)\n",
    "        r_denominator = (1 + r_average_obs / 360) ** (days_from_start + days_to_fomc)\n",
    "        r_boot = ((r_numerator / r_denominator) ** (1 / days_from_fomc) - 1) * 360\n",
    "\n",
    "        return r_boot\n"
   ]
  },
  {
   "cell_type": "code",
   "execution_count": 555,
   "metadata": {},
   "outputs": [],
   "source": [
    "def load_fixings():\n",
    "    sofr_fixings = pd.read_csv(\"sofr_fixings.csv\").iloc[:-1,[0,2]]\n",
    "    sofr_fixings.columns = ['date','rate']\n",
    "    sofr_fixings.rate = sofr_fixings.rate / 100\n",
    "    sofr_fixings.date = sofr_fixings.date.apply(lambda x: dt.datetime.strptime(x,\"%m/%d/%Y\").date())\n",
    "    sofr_fixings.set_index('date', inplace=True)\n",
    "    sofr_fixings = sofr_fixings.sort_index()\n",
    "    sofr_fixings.index = pd.to_datetime(sofr_fixings.index)\n",
    "    sofr_fixings = sofr_fixings.resample('D').mean().ffill()\n",
    "    return sofr_fixings\n",
    "\n",
    "sofr_fixings = load_fixings()"
   ]
  },
  {
   "cell_type": "code",
   "execution_count": 556,
   "metadata": {},
   "outputs": [],
   "source": [
    "sofr = CurveSOFR(sofr_fixings)\n",
    "sofr_1m = FuturesSOFR1M(pd.to_datetime(dt.date(2023, 3, 1)), 95.365)\n",
    "sofr_3m = FuturesSOFR3M(pd.to_datetime(dt.date(2023, 1, 18)), 95.3725)\n",
    "\n",
    "# sofr.bootstrap_single_rate(fomc_dates, sofr_3m)"
   ]
  },
  {
   "cell_type": "code",
   "execution_count": 557,
   "metadata": {},
   "outputs": [],
   "source": [
    "SOFR = CurveSOFR(sofr_fixings)\n",
    "\n",
    "dates = [pd.to_datetime(dt.date(2023, 3, 1)),\n",
    "        pd.to_datetime(dt.date(2023, 4, 1)),\n",
    "        pd.to_datetime(dt.date(2023, 5, 1)),\n",
    "        pd.to_datetime(dt.date(2023, 6, 1)),\n",
    "        pd.to_datetime(dt.date(2023, 7, 1)),\n",
    "        pd.to_datetime(dt.date(2023, 8, 1)),\n",
    "        pd.to_datetime(dt.date(2023, 9, 1)),\n",
    "        pd.to_datetime(dt.date(2023, 10, 1)),\n",
    "        pd.to_datetime(dt.date(2023, 11, 1)),\n",
    "        pd.to_datetime(dt.date(2023, 12, 1)),\n",
    "        pd.to_datetime(dt.date(2024, 1, 1)),\n",
    "        pd.to_datetime(dt.date(2024, 2, 1))]\n",
    "        \n",
    "prices = [\n",
    "    95.3625,\n",
    "    95.14,\n",
    "    94.885,\n",
    "    94.765,\n",
    "    94.67,\n",
    "    94.59,\n",
    "    94.575,\n",
    "    94.57,\n",
    "    94.62,\n",
    "    94.66,\n",
    "    94.69,\n",
    "    94.77\n",
    "    ]\n",
    "\n",
    "\n",
    "future1 = FuturesSOFR1M(pd.to_datetime(dt.date(2023, 3, 1)), 95.3625)\n",
    "future2 = FuturesSOFR1M(pd.to_datetime(dt.date(2023, 4, 1)), 95.14)\n",
    "future3 = FuturesSOFR1M(pd.to_datetime(dt.date(2023, 5, 1)), 94.885)\n",
    "future4 = FuturesSOFR1M(pd.to_datetime(dt.date(2023, 6, 1)), 94.765)\n",
    "future5 = FuturesSOFR1M(pd.to_datetime(dt.date(2023, 7, 1)), 94.67)\n",
    "future6 = FuturesSOFR1M(pd.to_datetime(dt.date(2023, 8, 1)), 94.59)\n",
    "future7 = FuturesSOFR1M(pd.to_datetime(dt.date(2023, 9, 1)), 94.575)\n",
    "future8 = FuturesSOFR1M(pd.to_datetime(dt.date(2023, 10, 1)), 94.57)\n",
    "future9 = FuturesSOFR1M(pd.to_datetime(dt.date(2023, 11, 1)), 94.62)\n",
    "future10 = FuturesSOFR1M(pd.to_datetime(dt.date(2023, 12, 1)), 94.66)\n",
    "future11 = FuturesSOFR1M(pd.to_datetime(dt.date(2024, 1, 1)), 94.69)\n",
    "future12 = FuturesSOFR1M(pd.to_datetime(dt.date(2024, 2, 1)), 94.77)\n",
    "\n",
    "futures_list = [future1, future2, future3, future4, future5, future6, future7, future8, future9, future10, future11, future12]"
   ]
  },
  {
   "cell_type": "code",
   "execution_count": 558,
   "metadata": {},
   "outputs": [
    {
     "name": "stdout",
     "output_type": "stream",
     "text": [
      "Bootstrapping rates for SOFR 1M future ending on 2023-03-31 00:00:00\n",
      "Bootstrapping rates for SOFR 1M future ending on 2023-04-30 00:00:00\n",
      "Bootstrapping rates for SOFR 1M future ending on 2023-05-31 00:00:00\n",
      "Bootstrapping rates for SOFR 1M future ending on 2023-06-30 00:00:00\n",
      "Bootstrapping rates for SOFR 1M future ending on 2023-07-31 00:00:00\n",
      "Bootstrapping rates for SOFR 1M future ending on 2023-08-31 00:00:00\n",
      "Bootstrapping rates for SOFR 1M future ending on 2023-09-30 00:00:00\n",
      "Bootstrapping rates for SOFR 1M future ending on 2023-10-31 00:00:00\n",
      "Bootstrapping rates for SOFR 1M future ending on 2023-11-30 00:00:00\n",
      "Bootstrapping rates for SOFR 1M future ending on 2023-12-31 00:00:00\n",
      "Bootstrapping rates for SOFR 1M future ending on 2024-01-31 00:00:00\n",
      "Bootstrapping rates for SOFR 1M future ending on 2024-02-29 00:00:00\n"
     ]
    },
    {
     "data": {
      "text/plain": [
       "<matplotlib.axes._subplots.AxesSubplot at 0x2663946ab20>"
      ]
     },
     "execution_count": 558,
     "metadata": {},
     "output_type": "execute_result"
    },
    {
     "data": {
      "image/png": "[encoded data removed]",
      "text/plain": [
       "<Figure size 640x480 with 1 Axes>"
      ]
     },
     "metadata": {},
     "output_type": "display_data"
    }
   ],
   "source": [
    "SOFR.bootstrap_from_futures(fomc_dates, futures_list)\n",
    "SOFR.fill_curve_gaps()\n",
    "SOFR.fixings.plot()\n"
   ]
  },
  {
   "cell_type": "code",
   "execution_count": 559,
   "metadata": {},
   "outputs": [],
   "source": [
    "prices_priced = [f.price_from_curve(SOFR.fixings) for f in futures_list]\n",
    "pricing_error = np.array(prices) - np.array(prices_priced)"
   ]
  },
  {
   "cell_type": "code",
   "execution_count": 560,
   "metadata": {},
   "outputs": [
    {
     "data": {
      "text/plain": [
       "<matplotlib.axes._subplots.AxesSubplot at 0x26639382430>"
      ]
     },
     "execution_count": 560,
     "metadata": {},
     "output_type": "execute_result"
    },
    {
     "data": {
      "image/png": "[encoded data removed]",
      "text/plain": [
       "<Figure size 640x480 with 1 Axes>"
      ]
     },
     "metadata": {},
     "output_type": "display_data"
    }
   ],
   "source": [
    "price_df = pd.DataFrame(index = pd.DatetimeIndex(dates), data = {'implied': prices_priced, 'actual': prices})\n",
    "\n",
    "price_df.iloc[:-2].plot()"
   ]
  },
  {
   "cell_type": "code",
   "execution_count": 506,
   "metadata": {},
   "outputs": [],
   "source": [
    "SOFR.fixings.to_csv('output.csv')"
   ]
  }
 ],
 "metadata": {
  "kernelspec": {
   "display_name": "Python 3.8.3 ('base')",
   "language": "python",
   "name": "python3"
  },
  "language_info": {
   "codemirror_mode": {
    "name": "ipython",
    "version": 3
   },
   "file_extension": ".py",
   "mimetype": "text/x-python",
   "name": "python",
   "nbconvert_exporter": "python",
   "pygments_lexer": "ipython3",
   "version": "3.8.3"
  },
  "orig_nbformat": 4,
  "vscode": {
   "interpreter": {
    "hash": "ad2bdc8ecc057115af97d19610ffacc2b4e99fae6737bb82f5d7fb13d2f2c186"
   }
  }
 },
 "nbformat": 4,
 "nbformat_minor": 2
}
