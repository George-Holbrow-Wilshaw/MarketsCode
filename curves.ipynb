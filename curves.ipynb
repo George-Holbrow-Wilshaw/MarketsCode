{
 "cells": [
  {
   "cell_type": "code",
   "execution_count": 2,
   "metadata": {},
   "outputs": [],
   "source": [
    "import numpy as np\n",
    "import pandas as pd"
   ]
  },
  {
   "cell_type": "code",
   "execution_count": 74,
   "metadata": {},
   "outputs": [],
   "source": [
    "CURR_SOFR_FIX = 0.0455\n",
    "FIX_DATE = np.datetime64(\"2023-03-02\")\n",
    "\n",
    "fomc_dates = [\n",
    "    np.datetime64(\"2023-03-23\"),\n",
    "    np.datetime64(\"2023-05-04\"),\n",
    "    np.datetime64(\"2023-06-15\"),\n",
    "    np.datetime64(\"2023-07-27\"),\n",
    "    np.datetime64(\"2023-09-21\"),\n",
    "    np.datetime64(\"2023-12-14\")\n",
    "]\n",
    "\n",
    "start_steps = [25] * len(fomc_dates)\n"
   ]
  },
  {
   "cell_type": "code",
   "execution_count": 49,
   "metadata": {},
   "outputs": [],
   "source": [
    "def px_1m_sofr_future(r_obs, r_exp, t0, t, T):\n",
    "\n",
    "    days_t0_t = (t - t0).astype(float)\n",
    "    days_t_T = (T - t).astype(float)\n",
    "    days_t0_T = (T - t0).astype(float)\n",
    "\n",
    "    # 1m SOFR futures are based on a simple airthimetic average of overnight rates\n",
    "    r = (r_obs * days_t0_t + r_exp * days_t_T) / days_t0_T\n",
    "\n",
    "    price = 100 - r*100\n",
    "\n",
    "    return price\n",
    "\n",
    "def r_exp_from_1m_sofr(px, r_obs, t0, t,  T):\n",
    "\n",
    "    days_t0_t = (t - t0).astype(float)\n",
    "    days_t_T = (T - t).astype(float)\n",
    "    days_t0_T = (T - t0).astype(float)\n",
    "\n",
    "    r_impl = (100 - px) / 100\n",
    "    r_exp = (r_impl * days_t0_T - r_obs * days_t0_t) / days_t_T\n",
    "\n",
    "    return r_exp"
   ]
  },
  {
   "cell_type": "code",
   "execution_count": 78,
   "metadata": {},
   "outputs": [
    {
     "data": {
      "text/html": [
       "<div>\n",
       "<style scoped>\n",
       "    .dataframe tbody tr th:only-of-type {\n",
       "        vertical-align: middle;\n",
       "    }\n",
       "\n",
       "    .dataframe tbody tr th {\n",
       "        vertical-align: top;\n",
       "    }\n",
       "\n",
       "    .dataframe thead th {\n",
       "        text-align: right;\n",
       "    }\n",
       "</style>\n",
       "<table border=\"1\" class=\"dataframe\">\n",
       "  <thead>\n",
       "    <tr style=\"text-align: right;\">\n",
       "      <th></th>\n",
       "      <th>step</th>\n",
       "      <th>curve</th>\n",
       "    </tr>\n",
       "  </thead>\n",
       "  <tbody>\n",
       "    <tr>\n",
       "      <th>2023-03-02</th>\n",
       "      <td>0</td>\n",
       "      <td>0.0455</td>\n",
       "    </tr>\n",
       "    <tr>\n",
       "      <th>2023-03-23</th>\n",
       "      <td>25</td>\n",
       "      <td>0.0480</td>\n",
       "    </tr>\n",
       "    <tr>\n",
       "      <th>2023-05-04</th>\n",
       "      <td>25</td>\n",
       "      <td>0.0505</td>\n",
       "    </tr>\n",
       "    <tr>\n",
       "      <th>2023-06-15</th>\n",
       "      <td>25</td>\n",
       "      <td>0.0530</td>\n",
       "    </tr>\n",
       "    <tr>\n",
       "      <th>2023-07-27</th>\n",
       "      <td>25</td>\n",
       "      <td>0.0555</td>\n",
       "    </tr>\n",
       "    <tr>\n",
       "      <th>2023-09-21</th>\n",
       "      <td>25</td>\n",
       "      <td>0.0580</td>\n",
       "    </tr>\n",
       "    <tr>\n",
       "      <th>2023-12-14</th>\n",
       "      <td>25</td>\n",
       "      <td>0.0605</td>\n",
       "    </tr>\n",
       "  </tbody>\n",
       "</table>\n",
       "</div>"
      ],
      "text/plain": [
       "            step   curve\n",
       "2023-03-02     0  0.0455\n",
       "2023-03-23    25  0.0480\n",
       "2023-05-04    25  0.0505\n",
       "2023-06-15    25  0.0530\n",
       "2023-07-27    25  0.0555\n",
       "2023-09-21    25  0.0580\n",
       "2023-12-14    25  0.0605"
      ]
     },
     "execution_count": 78,
     "metadata": {},
     "output_type": "execute_result"
    }
   ],
   "source": [
    "def construct_fomc_curve(fix_date, curr_sofr, fomc_dates, start_steps):\n",
    "\n",
    "    dates = [fix_date] + fomc_dates\n",
    "\n",
    "    df = pd.DataFrame(\n",
    "        index = dates, \n",
    "        data = {\n",
    "            'step': [0] + start_steps,\n",
    "            'curve': curr_sofr\n",
    "            }\n",
    "        )\n",
    "    \n",
    "    df['curve'] = df['curve'] + df['step'].cumsum() / 10000\n",
    "\n",
    "    return df\n",
    "\n",
    "construct_fomc_curve(FIX_DATE, CURR_SOFR_FIX, fomc_dates, start_steps)"
   ]
  },
  {
   "cell_type": "code",
   "execution_count": null,
   "metadata": {},
   "outputs": [],
   "source": []
  },
  {
   "cell_type": "code",
   "execution_count": null,
   "metadata": {},
   "outputs": [],
   "source": []
  },
  {
   "cell_type": "code",
   "execution_count": null,
   "metadata": {},
   "outputs": [],
   "source": []
  },
  {
   "cell_type": "code",
   "execution_count": null,
   "metadata": {},
   "outputs": [],
   "source": []
  },
  {
   "cell_type": "code",
   "execution_count": null,
   "metadata": {},
   "outputs": [],
   "source": []
  }
 ],
 "metadata": {
  "kernelspec": {
   "display_name": "Python 3.8.10 64-bit",
   "language": "python",
   "name": "python3"
  },
  "language_info": {
   "codemirror_mode": {
    "name": "ipython",
    "version": 3
   },
   "file_extension": ".py",
   "mimetype": "text/x-python",
   "name": "python",
   "nbconvert_exporter": "python",
   "pygments_lexer": "ipython3",
   "version": "3.8.10"
  },
  "orig_nbformat": 4,
  "vscode": {
   "interpreter": {
    "hash": "570feb405e2e27c949193ac68f46852414290d515b0ba6e5d90d076ed2284471"
   }
  }
 },
 "nbformat": 4,
 "nbformat_minor": 2
}
